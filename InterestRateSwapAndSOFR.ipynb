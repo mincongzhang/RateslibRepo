{
 "cells": [
  {
   "cell_type": "markdown",
   "id": "2147b460",
   "metadata": {},
   "source": [
    "### ref: https://rateslib.readthedocs.io/en/stable/z_swpm.html"
   ]
  },
  {
   "cell_type": "markdown",
   "id": "f4916c7f",
   "metadata": {},
   "source": [
    "### Replicating Default SOFR\n",
    "\n",
    "![Default SOFR](sofr_n_swap/default_sofr.png)"
   ]
  },
  {
   "cell_type": "code",
   "execution_count": 1,
   "id": "617ef95d",
   "metadata": {},
   "outputs": [],
   "source": [
    "import pandas as pd\n",
    "from rateslib import *"
   ]
  },
  {
   "cell_type": "code",
   "execution_count": 2,
   "id": "7e28ddba",
   "metadata": {},
   "outputs": [
    {
     "name": "stdout",
     "output_type": "stream",
     "text": [
      "   Term     Rate Termination\n",
      "0    1W 5.301110  2023-08-28\n",
      "1    2W 5.304240  2023-09-05\n",
      "2    3W 5.306570  2023-09-11\n",
      "3    1M 5.311000  2023-09-21\n",
      "4    2M 5.348000  2023-10-23\n",
      "5    3M 5.380250  2023-11-21\n",
      "6    4M 5.409150  2023-12-21\n",
      "7    5M 5.430780  2024-01-22\n",
      "8    6M 5.442350  2024-02-21\n",
      "9    7M 5.449500  2024-03-21\n",
      "10   8M 5.448780  2024-04-22\n",
      "11   9M 5.441000  2024-05-21\n",
      "12  10M 5.427300  2024-06-21\n",
      "13  11M 5.407470  2024-07-22\n",
      "14  12M 5.383900  2024-08-21\n",
      "15  18M 5.091950  2025-02-21\n",
      "16   2Y 4.857850  2025-08-21\n",
      "17   3Y 4.518450  2026-08-21\n",
      "18   4Y 4.317050  2027-08-23\n"
     ]
    }
   ],
   "source": [
    "data = pd.DataFrame({\n",
    "    \"Term\": [\"1W\", \"2W\", \"3W\", \"1M\", \"2M\", \"3M\", \"4M\", \"5M\", \"6M\", \"7M\", \"8M\", \"9M\", \"10M\", \"11M\", \"12M\", \"18M\", \"2Y\", \"3Y\", \"4Y\"],\n",
    "    \"Rate\": [5.30111, 5.30424, 5.30657, 5.31100, 5.34800, 5.38025, 5.40915, 5.43078, 5.44235, 5.44950, 5.44878, 5.44100, 5.42730, 5.40747, 5.3839, 5.09195, 4.85785, 4.51845, 4.31705],\n",
    "})\n",
    "\n",
    "data[\"Termination\"] = [add_tenor(dt(2023, 8, 21), _, \"F\", \"nyc\") for _ in data[\"Term\"]]\n",
    "\n",
    "with pd.option_context(\"display.float_format\", lambda x: '%.6f' % x):\n",
    "    print(data)"
   ]
  },
  {
   "cell_type": "code",
   "execution_count": 3,
   "id": "223f7310",
   "metadata": {},
   "outputs": [],
   "source": [
    "sofr = Curve(\n",
    "    id=\"sofr\",\n",
    "    convention=\"Act360\",\n",
    "    calendar=\"nyc\",\n",
    "    modifier=\"MF\",\n",
    "    interpolation=\"log_linear\",\n",
    "    nodes={\n",
    "        **{dt(2023, 8, 17): 1.0},  # <- this is today's DF,\n",
    "        **{_: 1.0 for _ in data[\"Termination\"]},\n",
    "    }\n",
    ")"
   ]
  },
  {
   "cell_type": "code",
   "execution_count": 4,
   "id": "6abb0033",
   "metadata": {},
   "outputs": [
    {
     "name": "stdout",
     "output_type": "stream",
     "text": [
      "SUCCESS: `func_tol` reached after 5 iterations (levenberg_marquardt) , `f_val`: 3.116743265440467e-17, `time`: 0.0731s\n",
      "   Term     Rate Termination       DF\n",
      "0    1W 5.301110  2023-08-28 0.998382\n",
      "1    2W 5.304240  2023-09-05 0.997208\n",
      "2    3W 5.306570  2023-09-11 0.996327\n",
      "3    1M 5.311000  2023-09-21 0.994862\n",
      "4    2M 5.348000  2023-10-23 0.990145\n",
      "5    3M 5.380250  2023-11-21 0.985856\n",
      "6    4M 5.409150  2023-12-21 0.981421\n",
      "7    5M 5.430780  2024-01-22 0.976721\n",
      "8    6M 5.442350  2024-02-21 0.972364\n",
      "9    7M 5.449500  2024-03-21 0.968194\n",
      "10   8M 5.448780  2024-04-22 0.963676\n",
      "11   9M 5.441000  2024-05-21 0.959670\n",
      "12  10M 5.427300  2024-06-21 0.955477\n",
      "13  11M 5.407470  2024-07-22 0.951395\n",
      "14  12M 5.383900  2024-08-21 0.947546\n",
      "15  18M 5.091950  2025-02-21 0.926160\n",
      "16   2Y 4.857850  2025-08-21 0.907898\n",
      "17   3Y 4.518450  2026-08-21 0.874241\n",
      "18   4Y 4.317050  2027-08-23 0.842731\n"
     ]
    }
   ],
   "source": [
    "sofr_args = dict(effective=dt(2023, 8, 21), spec=\"usd_irs\", curves=\"sofr\")\n",
    "\n",
    "solver = Solver(\n",
    "    curves=[sofr],\n",
    "    instruments=[IRS(termination=_, **sofr_args) for _ in data[\"Termination\"]],\n",
    "    s=data[\"Rate\"],\n",
    "    instrument_labels=data[\"Term\"],\n",
    "    id=\"us_rates\",\n",
    ")\n",
    "\n",
    "data[\"DF\"] = [float(sofr[_]) for _ in data[\"Termination\"]]\n",
    "\n",
    "with pd.option_context(\"display.float_format\", lambda x: '%.6f' % x):\n",
    "    print(data)"
   ]
  },
  {
   "cell_type": "markdown",
   "id": "4fd99afd",
   "metadata": {},
   "source": [
    "### Create a swap in SWPM and replicate\n",
    "\n",
    "![Swap](sofr_n_swap/swap.png)"
   ]
  },
  {
   "cell_type": "code",
   "execution_count": 5,
   "id": "794cbfd0",
   "metadata": {},
   "outputs": [],
   "source": [
    "irs = IRS(\n",
    "    effective=dt(2023, 11, 21),\n",
    "    termination=dt(2025, 2, 21),\n",
    "    notional=-100e6,\n",
    "    fixed_rate=5.40,\n",
    "    curves=\"sofr\",\n",
    "    spec=\"usd_irs\",\n",
    ")"
   ]
  },
  {
   "cell_type": "markdown",
   "id": "25cba5a5",
   "metadata": {},
   "source": [
    "### PV"
   ]
  },
  {
   "cell_type": "code",
   "execution_count": 6,
   "id": "78f78f22",
   "metadata": {},
   "outputs": [
    {
     "data": {
      "text/plain": [
       "<Dual: 456,622.098604, ('sofr10', 'sofr15', 'sofr16', 'sofr17', 'sofr5', 'sofr6', 'sofr8', 'sofr9'), [-5.27190877e+02  0.00000000e+00  1.05432511e+08  1.12949455e+04\n",
       "  0.00000000e+00 -9.99703673e+07  0.00000000e+00  1.39448454e+06]>"
      ]
     },
     "execution_count": 6,
     "metadata": {},
     "output_type": "execute_result"
    }
   ],
   "source": [
    "npv = irs.npv(solver=solver)\n",
    "npv"
   ]
  },
  {
   "cell_type": "markdown",
   "id": "583f2fd0",
   "metadata": {},
   "source": [
    "### DV01"
   ]
  },
  {
   "cell_type": "code",
   "execution_count": 7,
   "id": "b7974812",
   "metadata": {},
   "outputs": [
    {
     "data": {
      "text/plain": [
       "local_ccy  display_ccy\n",
       "usd        usd           -11879.936805\n",
       "dtype: float64"
      ]
     },
     "execution_count": 7,
     "metadata": {},
     "output_type": "execute_result"
    }
   ],
   "source": [
    "dv01 = irs.delta(solver=solver).sum()\n",
    "dv01"
   ]
  },
  {
   "cell_type": "markdown",
   "id": "2b6159ca",
   "metadata": {},
   "source": [
    "### Gamma"
   ]
  },
  {
   "cell_type": "code",
   "execution_count": 8,
   "id": "e4aad20d",
   "metadata": {},
   "outputs": [],
   "source": [
    "gamma = irs.gamma(solver=solver).sum().sum()"
   ]
  },
  {
   "cell_type": "markdown",
   "id": "a4db6445",
   "metadata": {},
   "source": [
    "### PV01"
   ]
  },
  {
   "cell_type": "code",
   "execution_count": 9,
   "id": "2aaf0368",
   "metadata": {},
   "outputs": [
    {
     "data": {
      "text/plain": [
       "<Dual: -11,896.008577, ('sofr10', 'sofr16', 'sofr17', 'sofr9'), [ -176.95178153 -9937.61435225  -229.09616173 -2378.60529106]>"
      ]
     },
     "execution_count": 9,
     "metadata": {},
     "output_type": "execute_result"
    }
   ],
   "source": [
    "pv01 = irs.analytic_delta(curve=sofr)\n",
    "pv01"
   ]
  },
  {
   "cell_type": "markdown",
   "id": "5ef3bcee",
   "metadata": {},
   "source": [
    "### Check cashflows\n",
    "\n",
    "![Cashflows](sofr_n_swap/cashflows.png)"
   ]
  },
  {
   "cell_type": "code",
   "execution_count": 10,
   "id": "f385fa2f",
   "metadata": {},
   "outputs": [
    {
     "data": {
      "text/html": [
       "<div>\n",
       "<style scoped>\n",
       "    .dataframe tbody tr th:only-of-type {\n",
       "        vertical-align: middle;\n",
       "    }\n",
       "\n",
       "    .dataframe tbody tr th {\n",
       "        vertical-align: top;\n",
       "    }\n",
       "\n",
       "    .dataframe thead tr th {\n",
       "        text-align: left;\n",
       "    }\n",
       "\n",
       "    .dataframe thead tr:last-of-type th {\n",
       "        text-align: right;\n",
       "    }\n",
       "</style>\n",
       "<table border=\"1\" class=\"dataframe\">\n",
       "  <thead>\n",
       "    <tr>\n",
       "      <th>local_ccy</th>\n",
       "      <th>USD</th>\n",
       "    </tr>\n",
       "    <tr>\n",
       "      <th>collateral_ccy</th>\n",
       "      <th>NaN</th>\n",
       "    </tr>\n",
       "    <tr>\n",
       "      <th>payment</th>\n",
       "      <th></th>\n",
       "    </tr>\n",
       "  </thead>\n",
       "  <tbody>\n",
       "    <tr>\n",
       "      <th>2024-02-23</th>\n",
       "      <td>-7613.744059</td>\n",
       "    </tr>\n",
       "    <tr>\n",
       "      <th>2025-02-25</th>\n",
       "      <td>501239.067003</td>\n",
       "    </tr>\n",
       "  </tbody>\n",
       "</table>\n",
       "</div>"
      ],
      "text/plain": [
       "local_ccy                 USD\n",
       "collateral_ccy            NaN\n",
       "payment                      \n",
       "2024-02-23       -7613.744059\n",
       "2025-02-25      501239.067003"
      ]
     },
     "execution_count": 10,
     "metadata": {},
     "output_type": "execute_result"
    }
   ],
   "source": [
    "cashflows_table = irs.cashflows_table(solver=solver)\n",
    "cashflows_table"
   ]
  },
  {
   "cell_type": "code",
   "execution_count": 11,
   "id": "60b2605c",
   "metadata": {},
   "outputs": [
    {
     "data": {
      "text/html": [
       "<div>\n",
       "<style scoped>\n",
       "    .dataframe tbody tr th:only-of-type {\n",
       "        vertical-align: middle;\n",
       "    }\n",
       "\n",
       "    .dataframe tbody tr th {\n",
       "        vertical-align: top;\n",
       "    }\n",
       "\n",
       "    .dataframe thead th {\n",
       "        text-align: right;\n",
       "    }\n",
       "</style>\n",
       "<table border=\"1\" class=\"dataframe\">\n",
       "  <thead>\n",
       "    <tr style=\"text-align: right;\">\n",
       "      <th></th>\n",
       "      <th></th>\n",
       "      <th>Type</th>\n",
       "      <th>Period</th>\n",
       "      <th>Ccy</th>\n",
       "      <th>Acc Start</th>\n",
       "      <th>Acc End</th>\n",
       "      <th>Payment</th>\n",
       "      <th>Convention</th>\n",
       "      <th>DCF</th>\n",
       "      <th>Notional</th>\n",
       "      <th>DF</th>\n",
       "      <th>Collateral</th>\n",
       "      <th>Rate</th>\n",
       "      <th>Spread</th>\n",
       "      <th>Cashflow</th>\n",
       "      <th>NPV</th>\n",
       "      <th>FX Rate</th>\n",
       "      <th>NPV Ccy</th>\n",
       "    </tr>\n",
       "  </thead>\n",
       "  <tbody>\n",
       "    <tr>\n",
       "      <th rowspan=\"2\" valign=\"top\">leg1</th>\n",
       "      <th>0</th>\n",
       "      <td>FixedPeriod</td>\n",
       "      <td>Stub</td>\n",
       "      <td>USD</td>\n",
       "      <td>2023-11-21</td>\n",
       "      <td>2024-02-21</td>\n",
       "      <td>2024-02-23</td>\n",
       "      <td>act360</td>\n",
       "      <td>0.255556</td>\n",
       "      <td>-100000000.0</td>\n",
       "      <td>0.972076</td>\n",
       "      <td>None</td>\n",
       "      <td>5.400000</td>\n",
       "      <td>NaN</td>\n",
       "      <td>1.380000e+06</td>\n",
       "      <td>1.341464e+06</td>\n",
       "      <td>1.0</td>\n",
       "      <td>1.341464e+06</td>\n",
       "    </tr>\n",
       "    <tr>\n",
       "      <th>1</th>\n",
       "      <td>FixedPeriod</td>\n",
       "      <td>Regular</td>\n",
       "      <td>USD</td>\n",
       "      <td>2024-02-21</td>\n",
       "      <td>2025-02-21</td>\n",
       "      <td>2025-02-25</td>\n",
       "      <td>act360</td>\n",
       "      <td>1.016667</td>\n",
       "      <td>-100000000.0</td>\n",
       "      <td>0.925752</td>\n",
       "      <td>None</td>\n",
       "      <td>5.400000</td>\n",
       "      <td>NaN</td>\n",
       "      <td>5.490000e+06</td>\n",
       "      <td>5.082380e+06</td>\n",
       "      <td>1.0</td>\n",
       "      <td>5.082380e+06</td>\n",
       "    </tr>\n",
       "    <tr>\n",
       "      <th rowspan=\"2\" valign=\"top\">leg2</th>\n",
       "      <th>0</th>\n",
       "      <td>FloatPeriod</td>\n",
       "      <td>Stub</td>\n",
       "      <td>USD</td>\n",
       "      <td>2023-11-21</td>\n",
       "      <td>2024-02-21</td>\n",
       "      <td>2024-02-23</td>\n",
       "      <td>act360</td>\n",
       "      <td>0.255556</td>\n",
       "      <td>100000000.0</td>\n",
       "      <td>0.972076</td>\n",
       "      <td>None</td>\n",
       "      <td>5.429793</td>\n",
       "      <td>0.0</td>\n",
       "      <td>-1.387614e+06</td>\n",
       "      <td>-1.348865e+06</td>\n",
       "      <td>1.0</td>\n",
       "      <td>-1.348865e+06</td>\n",
       "    </tr>\n",
       "    <tr>\n",
       "      <th>1</th>\n",
       "      <td>FloatPeriod</td>\n",
       "      <td>Regular</td>\n",
       "      <td>USD</td>\n",
       "      <td>2024-02-21</td>\n",
       "      <td>2025-02-21</td>\n",
       "      <td>2025-02-25</td>\n",
       "      <td>act360</td>\n",
       "      <td>1.016667</td>\n",
       "      <td>100000000.0</td>\n",
       "      <td>0.925752</td>\n",
       "      <td>None</td>\n",
       "      <td>4.906978</td>\n",
       "      <td>0.0</td>\n",
       "      <td>-4.988761e+06</td>\n",
       "      <td>-4.618357e+06</td>\n",
       "      <td>1.0</td>\n",
       "      <td>-4.618357e+06</td>\n",
       "    </tr>\n",
       "  </tbody>\n",
       "</table>\n",
       "</div>"
      ],
      "text/plain": [
       "               Type   Period  Ccy  Acc Start    Acc End    Payment Convention  \\\n",
       "leg1 0  FixedPeriod     Stub  USD 2023-11-21 2024-02-21 2024-02-23     act360   \n",
       "     1  FixedPeriod  Regular  USD 2024-02-21 2025-02-21 2025-02-25     act360   \n",
       "leg2 0  FloatPeriod     Stub  USD 2023-11-21 2024-02-21 2024-02-23     act360   \n",
       "     1  FloatPeriod  Regular  USD 2024-02-21 2025-02-21 2025-02-25     act360   \n",
       "\n",
       "             DCF     Notional        DF Collateral      Rate  Spread  \\\n",
       "leg1 0  0.255556 -100000000.0  0.972076       None  5.400000     NaN   \n",
       "     1  1.016667 -100000000.0  0.925752       None  5.400000     NaN   \n",
       "leg2 0  0.255556  100000000.0  0.972076       None  5.429793     0.0   \n",
       "     1  1.016667  100000000.0  0.925752       None  4.906978     0.0   \n",
       "\n",
       "            Cashflow           NPV  FX Rate       NPV Ccy  \n",
       "leg1 0  1.380000e+06  1.341464e+06      1.0  1.341464e+06  \n",
       "     1  5.490000e+06  5.082380e+06      1.0  5.082380e+06  \n",
       "leg2 0 -1.387614e+06 -1.348865e+06      1.0 -1.348865e+06  \n",
       "     1 -4.988761e+06 -4.618357e+06      1.0 -4.618357e+06  "
      ]
     },
     "execution_count": 11,
     "metadata": {},
     "output_type": "execute_result"
    }
   ],
   "source": [
    "cashflows = irs.cashflows(solver=solver)\n",
    "cashflows"
   ]
  },
  {
   "cell_type": "code",
   "execution_count": null,
   "id": "e1a31726",
   "metadata": {},
   "outputs": [],
   "source": []
  },
  {
   "cell_type": "code",
   "execution_count": null,
   "id": "a11bbfe7",
   "metadata": {},
   "outputs": [],
   "source": []
  }
 ],
 "metadata": {
  "kernelspec": {
   "display_name": "Python 3 (ipykernel)",
   "language": "python",
   "name": "python3"
  },
  "language_info": {
   "codemirror_mode": {
    "name": "ipython",
    "version": 3
   },
   "file_extension": ".py",
   "mimetype": "text/x-python",
   "name": "python",
   "nbconvert_exporter": "python",
   "pygments_lexer": "ipython3",
   "version": "3.9.7"
  }
 },
 "nbformat": 4,
 "nbformat_minor": 5
}
