{
 "cells": [
  {
   "cell_type": "markdown",
   "id": "2147b460",
   "metadata": {},
   "source": [
    "### Ref1: https://rateslib.readthedocs.io/en/stable/z_swpm.html\n",
    "### Ref2: https://quant.stackexchange.com/a/49585"
   ]
  },
  {
   "cell_type": "markdown",
   "id": "f4916c7f",
   "metadata": {},
   "source": [
    "### Default SOFR\n",
    "\n",
    "![Default SOFR](sofr_n_swap/default_sofr.png)"
   ]
  },
  {
   "cell_type": "markdown",
   "id": "554587ad",
   "metadata": {},
   "source": [
    "### Swap\n",
    "\n",
    "![Swap](sofr_n_swap/swap.png)"
   ]
  },
  {
   "cell_type": "code",
   "execution_count": 1,
   "id": "617ef95d",
   "metadata": {},
   "outputs": [],
   "source": [
    "import pandas as pd\n",
    "from rateslib import *"
   ]
  },
  {
   "cell_type": "code",
   "execution_count": 2,
   "id": "1da6d70f",
   "metadata": {},
   "outputs": [],
   "source": [
    "def get_pv_results(bump=0.0):\n",
    "    data = pd.DataFrame({\n",
    "    \"Term\": [\"1W\", \"2W\", \"3W\", \"1M\", \"2M\", \"3M\", \"4M\", \"5M\", \"6M\", \"7M\", \"8M\", \"9M\", \"10M\", \"11M\", \"12M\", \"18M\", \"2Y\", \"3Y\", \"4Y\"],\n",
    "    \"Rate\": [5.30111, 5.30424, 5.30657, 5.31100, 5.34800, 5.38025, 5.40915, 5.43078, 5.44235, 5.44950, 5.44878, 5.44100, 5.42730, 5.40747, 5.3839, 5.09195, 4.85785, 4.51845, 4.31705],\n",
    "    })\n",
    "    \n",
    "    data[\"Rate\"] += bump\n",
    "\n",
    "    \n",
    "    data[\"Termination\"] = [add_tenor(dt(2023, 8, 21), _, \"F\", \"nyc\") for _ in data[\"Term\"]]\n",
    "    \n",
    "    sofr = Curve(\n",
    "        id=\"sofr\",\n",
    "        convention=\"Act360\",\n",
    "        calendar=\"nyc\",\n",
    "        modifier=\"MF\",\n",
    "        interpolation=\"log_linear\",\n",
    "        nodes={\n",
    "            **{dt(2023, 8, 17): 1.0},  # <- this is today's DF,\n",
    "            **{_: 1.0 for _ in data[\"Termination\"]},\n",
    "        }\n",
    "    )\n",
    "\n",
    "    sofr_args = dict(effective=dt(2023, 8, 21), spec=\"usd_irs\", curves=\"sofr\")\n",
    "\n",
    "    solver = Solver(\n",
    "        curves=[sofr],\n",
    "        instruments=[IRS(termination=_, **sofr_args) for _ in data[\"Termination\"]],\n",
    "        s=data[\"Rate\"],\n",
    "        instrument_labels=data[\"Term\"],\n",
    "        id=\"us_rates\",\n",
    "    )\n",
    "\n",
    "    data[\"DF\"] = [float(sofr[_]) for _ in data[\"Termination\"]]\n",
    "    \n",
    "    irs = IRS(\n",
    "        effective=dt(2023, 11, 21),\n",
    "        termination=dt(2025, 2, 21),\n",
    "        notional=-100e6,\n",
    "        fixed_rate=5.40,\n",
    "        curves=\"sofr\",\n",
    "        spec=\"usd_irs\",\n",
    "    )\n",
    "    \n",
    "    npv = irs.npv(solver=solver)\n",
    "    dv01 = irs.delta(solver=solver).sum()\n",
    "    pv01 = irs.analytic_delta(curve=sofr)\n",
    "    return npv, dv01, pv01"
   ]
  },
  {
   "cell_type": "code",
   "execution_count": 3,
   "id": "7e28ddba",
   "metadata": {},
   "outputs": [
    {
     "name": "stdout",
     "output_type": "stream",
     "text": [
      "SUCCESS: `func_tol` reached after 5 iterations (levenberg_marquardt) , `f_val`: 3.116743265440467e-17, `time`: 0.0718s\n"
     ]
    }
   ],
   "source": [
    "npv, dv01, pv01 = get_pv_results(bump=0.0)"
   ]
  },
  {
   "cell_type": "markdown",
   "id": "52187287",
   "metadata": {},
   "source": [
    "### PV\n",
    "\n",
    "The net present value (PV) of a vanilla IRS can be computed by determining the PV of each fixed leg and floating leg separately and summing. \n",
    "\n",
    "For pricing a mid-market IRS the underlying principle is that the two legs must have the same value initially.\n",
    "\n",
    "#### Fixed Leg\n",
    "\n",
    "Calculating the fixed leg requires discounting all of the known cashflows by an appropriate discount factor:\n",
    "\n",
    "$$P_{fixed} = N R \\sum_{i=1}^{n_1} d_i v_i$$\n",
    "\n",
    "$N$ = notional\n",
    "\n",
    "$R$ = fixed rate\n",
    "\n",
    "$n_1$ = the number of payments\n",
    "\n",
    "$d_i$ = decimalised day count fraction of the accrual in the i'th period\n",
    "\n",
    "$v_i$ = discount factor associated with the payment date of the i'th period\n",
    "\n",
    "#### Floating Leg\n",
    "\n",
    "Calculating the floating leg is a similar process replacing the fixed rate with __forecast index rates__(projection curves):\n",
    "\n",
    "$$P_{float} = N \\sum_{i=1}^{n1} r_j d_j v_j$$\n",
    "\n",
    "$n_2$ = the number of payments of the floating leg\n",
    "\n",
    "$r_j$ = forecast -IBOR index rates of the appropriate currency\n",
    "\n",
    "#### PV\n",
    "\n",
    "$$P_{IRS} = P_{fixed} - P_{float}$$\n",
    "\n",
    "\n",
    "$$P_{IRS} = N R \\sum_{i=1}^{n_1} d_i v_i - N \\sum_{i=1}^{n1} r_j d_j v_j$$"
   ]
  },
  {
   "cell_type": "code",
   "execution_count": 4,
   "id": "e8944a33",
   "metadata": {},
   "outputs": [
    {
     "name": "stdout",
     "output_type": "stream",
     "text": [
      "PV 456622.09860395174\n"
     ]
    }
   ],
   "source": [
    "print(\"PV\", npv.real)"
   ]
  },
  {
   "cell_type": "markdown",
   "id": "c28a97d0",
   "metadata": {},
   "source": [
    "### PV01\n",
    "Or __Analytic PV01__:when you change the value of the fixed coupon by 1bp and evaluate the impact on the IRS\n",
    "\n",
    "$$P = R \\sum_{i=1}^{n_i} d_i v_i - \\sum_{j=1}^{n_j} r_j d_j v_j$$\n",
    "\n",
    "$$\\frac{\\partial P}{\\partial R} = \\underbrace{ \\sum_{i=1}^{n_i} d_i v_i }_{analytic \\ fixed \\ leg}$$\n",
    "\n",
    "$d$ = day fraction\n",
    "\n",
    "$v$ = the discount factors\n",
    "\n",
    "$r$ = the floating rates\n",
    "\n",
    "The notation here is a bit mangled because the i's and the j's might refer to schedules of different frequencies. \n"
   ]
  },
  {
   "cell_type": "code",
   "execution_count": 5,
   "id": "dbc9c55e",
   "metadata": {},
   "outputs": [
    {
     "data": {
      "text/plain": [
       "<Dual: -11,896.008577, ('sofr10', 'sofr16', 'sofr17', 'sofr9'), [ -176.95178153 -9937.61435225  -229.09616173 -2378.60529106]>"
      ]
     },
     "execution_count": 5,
     "metadata": {},
     "output_type": "execute_result"
    }
   ],
   "source": [
    "pv01"
   ]
  },
  {
   "cell_type": "markdown",
   "id": "583f2fd0",
   "metadata": {},
   "source": [
    "### DV01\n",
    "Or Real Portfolio PV01 / Delta:"
   ]
  },
  {
   "cell_type": "code",
   "execution_count": 6,
   "id": "b7974812",
   "metadata": {},
   "outputs": [
    {
     "name": "stdout",
     "output_type": "stream",
     "text": [
      "DV01 local_ccy  display_ccy\n",
      "usd        usd           -11879.936805\n",
      "dtype: float64\n"
     ]
    }
   ],
   "source": [
    "print(\"DV01\", dv01)"
   ]
  },
  {
   "cell_type": "markdown",
   "id": "dc9c57fc",
   "metadata": {},
   "source": [
    "### DV01 - Central Finite Difference\n",
    "\n",
    "Assume the PnL on a swap is almost its linear pnl plus its convexity:\n",
    "\n",
    "$$\\Delta P (\\Delta r) \\approx \\frac{\\partial P}{\\partial r} \\Delta r  + \\frac{1}{2} \\frac{{\\partial}^2 P}{\\partial r^2} \\Delta r^2$$\n",
    "\n",
    "Then bumping by +1bp and -1bp, dividing by 2 eliminates the convexity element and very accurately approximates the real PV01:\n",
    "\n",
    "$$\\frac{\\Delta P (+1bp) - \\Delta P (-1bp)}{2} = \\frac{\\partial P}{\\partial r}$$"
   ]
  },
  {
   "cell_type": "code",
   "execution_count": 7,
   "id": "e1a31726",
   "metadata": {},
   "outputs": [],
   "source": [
    "one_bp = 0.01"
   ]
  },
  {
   "cell_type": "code",
   "execution_count": 8,
   "id": "a11bbfe7",
   "metadata": {},
   "outputs": [
    {
     "name": "stdout",
     "output_type": "stream",
     "text": [
      "SUCCESS: `func_tol` reached after 5 iterations (levenberg_marquardt) , `f_val`: 3.108013716766087e-17, `time`: 0.0743s\n"
     ]
    }
   ],
   "source": [
    "npv_plus_1bp, _, _ = get_pv_results(bump=one_bp)\n",
    "npv_plus_1bp_val = npv_plus_1bp.real"
   ]
  },
  {
   "cell_type": "code",
   "execution_count": 9,
   "id": "215c9b3c",
   "metadata": {},
   "outputs": [
    {
     "name": "stdout",
     "output_type": "stream",
     "text": [
      "SUCCESS: `func_tol` reached after 5 iterations (levenberg_marquardt) , `f_val`: 3.1254963583773556e-17, `time`: 0.0773s\n"
     ]
    }
   ],
   "source": [
    "npv_minus_1bp, _, _ = get_pv_results(bump=-one_bp)\n",
    "npv_minus_1bp_val = npv_minus_1bp.real"
   ]
  },
  {
   "cell_type": "code",
   "execution_count": 10,
   "id": "bbe38e2d",
   "metadata": {},
   "outputs": [
    {
     "name": "stdout",
     "output_type": "stream",
     "text": [
      "-11879.93697656691\n"
     ]
    }
   ],
   "source": [
    "dv01_finite_diff = (npv_plus_1bp_val - npv_minus_1bp_val) / 2.0\n",
    "print(dv01_finite_diff)"
   ]
  },
  {
   "cell_type": "markdown",
   "id": "97ea765c",
   "metadata": {},
   "source": [
    "### DV01 - Single Bumped Curve\n",
    "Another common method of calculation is to use a single bumped curve by, say, $\\frac{1}{100}$ th of a bp, and scale the result by 100. Although less accurate, since the convexity is marginalised and not eliminated, the calculation is twice as fast, for example:\n",
    "\n",
    "$100 \\Delta P (+\\frac{1}{100}bp) = \\frac{\\partial P}{\\partial r} + \\frac{1}{200} \\frac{{\\partial}^2 P}{\\partial r^2} $"
   ]
  },
  {
   "cell_type": "code",
   "execution_count": 11,
   "id": "3027382b",
   "metadata": {},
   "outputs": [
    {
     "name": "stdout",
     "output_type": "stream",
     "text": [
      "SUCCESS: `func_tol` reached after 5 iterations (levenberg_marquardt) , `f_val`: 3.116670055661461e-17, `time`: 0.0738s\n"
     ]
    }
   ],
   "source": [
    "npv_bump, _, _ = get_pv_results(bump=one_bp*0.01)\n",
    "npv_bump_val = npv_bump.real"
   ]
  },
  {
   "cell_type": "code",
   "execution_count": 12,
   "id": "d4f59ac6",
   "metadata": {},
   "outputs": [
    {
     "name": "stdout",
     "output_type": "stream",
     "text": [
      "11879.920919146389\n"
     ]
    }
   ],
   "source": [
    "dv01_single_bump = (npv.real - npv_bump_val) * 100.0\n",
    "print(dv01_single_bump)"
   ]
  },
  {
   "cell_type": "markdown",
   "id": "b30e36fe",
   "metadata": {},
   "source": [
    "## Extra Info\n",
    "Historically IRSs were valued using discount factors derived from the same curve used to forecast the -IBOR rates. This has been called \"self-discounted\". Some early literature described some incoherence introduced by that approach and multiple banks were using different techniques to reduce them. It became more apparent with the 2007–2012 global financial crisis that the approach was not appropriate, and alignment towards discount factors associated with __physical collateral__ of the IRSs was needed.\n",
    "\n",
    "Post crisis, to accommodate credit risk, the now-standard pricing approach is the multi-curve framework where forecast -IBOR rates and discount factors exhibit disparity. Note that the economic pricing principle is unchanged: __leg values are still identical at initiation.__\n",
    "\n",
    "Here, overnight index swap (OIS) rates are typically used to __derive discount factors__, since that index is the standard inclusion on Credit Support Annexes (CSAs) to determine the rate of interest payable on collateral for IRS contracts. \n",
    "\n",
    "As regards the rates forecast, since the basis spread between LIBOR rates of different maturities widened during the crisis, forecast curves are generally constructed for each LIBOR tenor used in floating rate derivative legs.[4]"
   ]
  },
  {
   "cell_type": "markdown",
   "id": "c6a92075",
   "metadata": {},
   "source": [
    "Under both frameworks, the following apply. \n",
    "\n",
    "1. Maturities for which rates are solved directly are referred to as __\"pillar points\"__, these correspond to the input-instrument maturities; other rates are interpolated, often using Hermitic splines. \n",
    "\n",
    "2. The objective function: prices must be \"exactly\" returned, as described. \n",
    "\n",
    "3. The penalty function will weigh: that forward rates are positive (to be arbitrage free) and curve \"smoothness\"; both, in turn, a function of the interpolation method. [7] [8] [9] \n",
    "\n",
    "4. The initial estimate: usually, the most recently solved curve set. \n",
    "5. All that need be stored are the solved spot rates for the pillar points, and the interpolation rule."
   ]
  },
  {
   "cell_type": "code",
   "execution_count": null,
   "id": "2c6c8874",
   "metadata": {},
   "outputs": [],
   "source": []
  }
 ],
 "metadata": {
  "kernelspec": {
   "display_name": "Python 3 (ipykernel)",
   "language": "python",
   "name": "python3"
  },
  "language_info": {
   "codemirror_mode": {
    "name": "ipython",
    "version": 3
   },
   "file_extension": ".py",
   "mimetype": "text/x-python",
   "name": "python",
   "nbconvert_exporter": "python",
   "pygments_lexer": "ipython3",
   "version": "3.9.7"
  }
 },
 "nbformat": 4,
 "nbformat_minor": 5
}
