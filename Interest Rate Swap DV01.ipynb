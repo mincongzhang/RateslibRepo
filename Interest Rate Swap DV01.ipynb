{
 "cells": [
  {
   "cell_type": "markdown",
   "id": "2147b460",
   "metadata": {},
   "source": [
    "### Ref1: https://rateslib.readthedocs.io/en/stable/z_swpm.html\n",
    "### Ref2: https://quant.stackexchange.com/a/49585"
   ]
  },
  {
   "cell_type": "markdown",
   "id": "f4916c7f",
   "metadata": {},
   "source": [
    "### Default SOFR\n",
    "\n",
    "![Default SOFR](dv01/default_sofr.png)"
   ]
  },
  {
   "cell_type": "markdown",
   "id": "842e6466",
   "metadata": {},
   "source": [
    "### Swap\n",
    "\n",
    "![Swap](dv01/swap.png)"
   ]
  },
  {
   "cell_type": "code",
   "execution_count": 1,
   "id": "617ef95d",
   "metadata": {},
   "outputs": [],
   "source": [
    "import pandas as pd\n",
    "from rateslib import *"
   ]
  },
  {
   "cell_type": "code",
   "execution_count": 2,
   "id": "c4f23754",
   "metadata": {},
   "outputs": [],
   "source": [
    "def get_pv_results(bump=0.0):\n",
    "    data = pd.DataFrame({\n",
    "    \"Term\": [\"1W\", \"2W\", \"3W\", \"1M\", \"2M\", \"3M\", \"4M\", \"5M\", \"6M\", \"7M\", \"8M\", \"9M\", \"10M\", \"11M\", \"12M\", \"18M\", \"2Y\", \"3Y\", \"4Y\"],\n",
    "    \"Rate\": [5.30111, 5.30424, 5.30657, 5.31100, 5.34800, 5.38025, 5.40915, 5.43078, 5.44235, 5.44950, 5.44878, 5.44100, 5.42730, 5.40747, 5.3839, 5.09195, 4.85785, 4.51845, 4.31705],\n",
    "    })\n",
    "    \n",
    "    data[\"Rate\"] += bump\n",
    "\n",
    "    \n",
    "    data[\"Termination\"] = [add_tenor(dt(2023, 8, 21), _, \"F\", \"nyc\") for _ in data[\"Term\"]]\n",
    "    \n",
    "    sofr = Curve(\n",
    "        id=\"sofr\",\n",
    "        convention=\"Act360\",\n",
    "        calendar=\"nyc\",\n",
    "        modifier=\"MF\",\n",
    "        interpolation=\"log_linear\",\n",
    "        nodes={\n",
    "            **{dt(2023, 8, 17): 1.0},  # <- this is today's DF,\n",
    "            **{_: 1.0 for _ in data[\"Termination\"]},\n",
    "        }\n",
    "    )\n",
    "\n",
    "    sofr_args = dict(effective=dt(2023, 8, 21), spec=\"usd_irs\", curves=\"sofr\")\n",
    "\n",
    "    solver = Solver(\n",
    "        curves=[sofr],\n",
    "        instruments=[IRS(termination=_, **sofr_args) for _ in data[\"Termination\"]],\n",
    "        s=data[\"Rate\"],\n",
    "        instrument_labels=data[\"Term\"],\n",
    "        id=\"us_rates\",\n",
    "    )\n",
    "\n",
    "    data[\"DF\"] = [float(sofr[_]) for _ in data[\"Termination\"]]\n",
    "    \n",
    "    irs = IRS(\n",
    "        effective=dt(2023, 11, 21),\n",
    "        termination=dt(2025, 2, 21),\n",
    "        notional=-100e6,\n",
    "        fixed_rate=5.40,\n",
    "        curves=\"sofr\",\n",
    "        spec=\"usd_irs\",\n",
    "    )\n",
    "    \n",
    "    npv = irs.npv(solver=solver)\n",
    "    dv01 = irs.delta(solver=solver).sum()\n",
    "    return npv, dv01"
   ]
  },
  {
   "cell_type": "code",
   "execution_count": 3,
   "id": "7e28ddba",
   "metadata": {},
   "outputs": [
    {
     "name": "stdout",
     "output_type": "stream",
     "text": [
      "SUCCESS: `func_tol` reached after 5 iterations (levenberg_marquardt) , `f_val`: 3.116743265440467e-17, `time`: 0.0750s\n"
     ]
    }
   ],
   "source": [
    "npv, dv01 = get_pv_results(bump=0.0)"
   ]
  },
  {
   "cell_type": "markdown",
   "id": "d6b733af",
   "metadata": {},
   "source": [
    "### PV"
   ]
  },
  {
   "cell_type": "code",
   "execution_count": 4,
   "id": "3f46d109",
   "metadata": {},
   "outputs": [
    {
     "name": "stdout",
     "output_type": "stream",
     "text": [
      "PV 456622.09860395174\n"
     ]
    }
   ],
   "source": [
    "print(\"PV\", npv.real)"
   ]
  },
  {
   "cell_type": "markdown",
   "id": "583f2fd0",
   "metadata": {},
   "source": [
    "### DV01"
   ]
  },
  {
   "cell_type": "code",
   "execution_count": 5,
   "id": "b7974812",
   "metadata": {},
   "outputs": [
    {
     "name": "stdout",
     "output_type": "stream",
     "text": [
      "DV01 local_ccy  display_ccy\n",
      "usd        usd           -11879.936805\n",
      "dtype: float64\n"
     ]
    }
   ],
   "source": [
    "print(\"DV01\", dv01)"
   ]
  },
  {
   "cell_type": "markdown",
   "id": "6a8a14c1",
   "metadata": {},
   "source": [
    "### DV01 - Central Finite Difference\n",
    "\n",
    "Assume the PnL on a swap is almost its linear pnl plus its convexity:\n",
    "\n",
    "$\\Delta P (\\Delta r) \\approx \\frac{\\partial P}{\\partial r} \\Delta r  + \\frac{1}{2} \\frac{{\\partial}^2 P}{\\partial r^2} \\Delta r^2$\n",
    "\n",
    "Then bumping by +1bp and -1bp, dividing by 2 eliminates the convexity element and very accurately approximates the real PV01:\n",
    "\n",
    "$\\frac{\\Delta P (+1bp) - \\Delta P (-1bp)}{2} = \\frac{\\partial P}{\\partial r}$"
   ]
  },
  {
   "cell_type": "code",
   "execution_count": 12,
   "id": "e1a31726",
   "metadata": {},
   "outputs": [],
   "source": [
    "one_bp = 0.01"
   ]
  },
  {
   "cell_type": "code",
   "execution_count": 13,
   "id": "a11bbfe7",
   "metadata": {},
   "outputs": [
    {
     "name": "stdout",
     "output_type": "stream",
     "text": [
      "SUCCESS: `func_tol` reached after 5 iterations (levenberg_marquardt) , `f_val`: 3.108013716766087e-17, `time`: 0.0754s\n"
     ]
    }
   ],
   "source": [
    "npv_plus_1bp, _ = get_pv_results(bump=one_bp)\n",
    "npv_plus_1bp_val = npv_plus_1bp.real"
   ]
  },
  {
   "cell_type": "code",
   "execution_count": 14,
   "id": "70ef4494",
   "metadata": {},
   "outputs": [
    {
     "name": "stdout",
     "output_type": "stream",
     "text": [
      "SUCCESS: `func_tol` reached after 5 iterations (levenberg_marquardt) , `f_val`: 3.1254963583773556e-17, `time`: 0.0770s\n"
     ]
    }
   ],
   "source": [
    "npv_minus_1bp, _ = get_pv_results(bump=-one_bp)\n",
    "npv_minus_1bp_val = npv_minus_1bp.real"
   ]
  },
  {
   "cell_type": "code",
   "execution_count": 15,
   "id": "d6392103",
   "metadata": {},
   "outputs": [
    {
     "name": "stdout",
     "output_type": "stream",
     "text": [
      "-11879.93697656691\n"
     ]
    }
   ],
   "source": [
    "dv01_finite_diff = (npv_plus_1bp_val - npv_minus_1bp_val) / 2.0\n",
    "print(dv01_finite_diff)"
   ]
  },
  {
   "cell_type": "markdown",
   "id": "f94b265d",
   "metadata": {},
   "source": [
    "### DV01 - Single Bumped Curve\n",
    "Another common method of calculation is to use a single bumped curve by, say, $\\frac{1}{100}$ th of a bp, and scale the result by 100. Although less accurate, since the convexity is marginalised and not eliminated, the calculation is twice as fast, for example:\n",
    "\n",
    "$100 \\Delta P (+\\frac{1}{100}bp) = \\frac{\\partial P}{\\partial r} + \\frac{1}{200} \\frac{{\\partial}^2 P}{\\partial r^2} $"
   ]
  },
  {
   "cell_type": "code",
   "execution_count": 16,
   "id": "6c982c76",
   "metadata": {},
   "outputs": [
    {
     "name": "stdout",
     "output_type": "stream",
     "text": [
      "SUCCESS: `func_tol` reached after 5 iterations (levenberg_marquardt) , `f_val`: 3.116670055661461e-17, `time`: 0.0765s\n"
     ]
    }
   ],
   "source": [
    "npv_bump, _ = get_pv_results(bump=one_bp*0.01)\n",
    "npv_bump_val = npv_bump.real"
   ]
  },
  {
   "cell_type": "code",
   "execution_count": 17,
   "id": "d83accf8",
   "metadata": {},
   "outputs": [
    {
     "name": "stdout",
     "output_type": "stream",
     "text": [
      "11879.920919146389\n"
     ]
    }
   ],
   "source": [
    "dv01_single_bump = (npv.real - npv_bump_val) * 100.0\n",
    "print(dv01_single_bump)"
   ]
  },
  {
   "cell_type": "code",
   "execution_count": null,
   "id": "b53c932a",
   "metadata": {},
   "outputs": [],
   "source": []
  }
 ],
 "metadata": {
  "kernelspec": {
   "display_name": "Python 3 (ipykernel)",
   "language": "python",
   "name": "python3"
  },
  "language_info": {
   "codemirror_mode": {
    "name": "ipython",
    "version": 3
   },
   "file_extension": ".py",
   "mimetype": "text/x-python",
   "name": "python",
   "nbconvert_exporter": "python",
   "pygments_lexer": "ipython3",
   "version": "3.9.7"
  }
 },
 "nbformat": 4,
 "nbformat_minor": 5
}
